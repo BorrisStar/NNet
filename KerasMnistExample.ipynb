{
 "cells": [
  {
   "cell_type": "code",
   "execution_count": 81,
   "metadata": {},
   "outputs": [
    {
     "name": "stdout",
     "output_type": "stream",
     "text": [
      "1.14.0\n"
     ]
    }
   ],
   "source": [
    "#распознавание рукописного текста\n",
    "import numpy as np\n",
    "print (np.__version__)\n",
    "#pip install numpy --upgrade\n",
    "from keras.preprocessing import image\n",
    "\n",
    "from keras.datasets import mnist#-классификация рукописных цифр\n",
    "from keras.models import Sequential#модель нейронной сети слои которой соединены друг с другом\n",
    "from keras.layers import Dense#соединение всех нейронов предыдущего уровня со всми нейронами следующего уровня\n",
    "from keras.utils import np_utils#утилиты для работы с массивами\n",
    "from keras.models import model_from_json\n",
    "import matplotlib.pyplot as plt\n",
    "#pip install --upgrade --force-reinstall matplotlib==2.0.0\n",
    "%matplotlib inline\n",
    "\n",
    "# Устанавливаем seed для повторяемости результатов\n",
    "np.random.seed(42)\n",
    "\n",
    "\n",
    "#Загружаем обученную нейронную сеть из файла\n",
    "\n",
    "# Загружаем данные об архитектуре сети из файла json\n",
    "json_file = open(\"mnistreal_model.json\", \"r\")\n",
    "loaded_model_json = json_file.read()\n",
    "json_file.close()\n",
    "\n",
    "# Создаем модель на основе загруженных данных\n",
    "loaded_model = model_from_json(loaded_model_json)\n",
    "# Загружаем веса в модель\n",
    "loaded_model.load_weights(\"mnistreal_model.h5\")\n",
    "\n",
    "#Перед использованием модели, ее обязательно нужно скомпилировать:\n",
    "\n",
    "# Компилируем модель\n",
    "loaded_model.compile(loss=\"categorical_crossentropy\", optimizer=\"SGD\", metrics=[\"accuracy\"])\n",
    "\n"
   ]
  },
  {
   "cell_type": "code",
   "execution_count": 94,
   "metadata": {},
   "outputs": [
    {
     "name": "stdout",
     "output_type": "stream",
     "text": [
      "3\n"
     ]
    },
    {
     "data": {
      "image/png": "[encoded data removed]",
      "text/plain": [
       "<matplotlib.figure.Figure at 0x1e1173478d0>"
      ]
     },
     "metadata": {},
     "output_type": "display_data"
    }
   ],
   "source": [
    "#Поверяем на реальном примере\n",
    "# Загружаем изображение\n",
    "img_path = '3.png'\n",
    "img = image.load_img(img_path, target_size=(28, 28), grayscale=True)\n",
    "\n",
    "#from PIL import Image, ImageDraw #Подключим необходимые библиотеки.\n",
    "#image = Image.open(\"9.png\") #Открываем изображение.\n",
    "\n",
    "im = plt.imread('3.png')\n",
    "plt.imshow(im,cmap=\"gray\")\n",
    "plt.show\n",
    "\n",
    "# Преобразуем изображением в массив numpy\n",
    "x = image.img_to_array(img)\n",
    "\n",
    "# Инвертируем и нормализуем изображение\n",
    "# Инверсия нужна потому что 0 - это белый, 255 - это черный,\n",
    "# а в популярных форматах хранения данных все наоборот\n",
    "x = 255 - x\n",
    "x /= 255\n",
    "x = np.expand_dims(x, axis=0)\n",
    "\n",
    "prediction = loaded_model.predict(x)\n",
    "\n",
    "\n",
    "\n",
    "print(np.argmax(prediction))"
   ]
  },
  {
   "cell_type": "code",
   "execution_count": 93,
   "metadata": {},
   "outputs": [
    {
     "name": "stdout",
     "output_type": "stream",
     "text": [
      "3\n"
     ]
    }
   ],
   "source": [
    "\n",
    "\n"
   ]
  },
  {
   "cell_type": "code",
   "execution_count": null,
   "metadata": {},
   "outputs": [],
   "source": []
  }
 ],
 "metadata": {
  "kernelspec": {
   "display_name": "Python 3",
   "language": "python",
   "name": "python3"
  },
  "language_info": {
   "codemirror_mode": {
    "name": "ipython",
    "version": 3
   },
   "file_extension": ".py",
   "mimetype": "text/x-python",
   "name": "python",
   "nbconvert_exporter": "python",
   "pygments_lexer": "ipython3",
   "version": "3.6.4"
  }
 },
 "nbformat": 4,
 "nbformat_minor": 2
}
